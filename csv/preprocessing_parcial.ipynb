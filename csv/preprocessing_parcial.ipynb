{
 "cells": [
  {
   "cell_type": "code",
   "execution_count": 25,
   "metadata": {},
   "outputs": [],
   "source": [
    "import pandas as pd\n",
    "import os\n",
    "import matplotlib.pyplot as plt\n",
    "import seaborn as sns\n",
    "import numpy as np"
   ]
  },
  {
   "cell_type": "code",
   "execution_count": 26,
   "metadata": {},
   "outputs": [],
   "source": [
    "tablas_crudas = {file[:-4]:pd.read_csv(file) for file in os.listdir() if file[-4:] == '.csv'}\n",
    "for comision, dataframe in tablas_crudas.items():\n",
    "#     print(comision)\n",
    "    dataframe['comision'] = comision\n",
    "tabla = pd.concat(tablas_crudas.values(), axis = 0)\n"
   ]
  },
  {
   "cell_type": "code",
   "execution_count": 27,
   "metadata": {},
   "outputs": [],
   "source": [
    "select = [nodo for nodo in tabla.columns if ('Cuestionario' in nodo or 'comision' in nodo) and 'Obligatorio' not in nodo ]\n",
    "tabla = tabla.loc[:,select]"
   ]
  },
  {
   "cell_type": "code",
   "execution_count": 29,
   "metadata": {},
   "outputs": [],
   "source": [
    "tabla.to_csv('datos_anonimizados.csv')\n"
   ]
  }
 ],
 "metadata": {
  "kernelspec": {
   "display_name": "Python 3",
   "language": "python",
   "name": "python3"
  },
  "language_info": {
   "codemirror_mode": {
    "name": "ipython",
    "version": 3
   },
   "file_extension": ".py",
   "mimetype": "text/x-python",
   "name": "python",
   "nbconvert_exporter": "python",
   "pygments_lexer": "ipython3",
   "version": "3.8.5"
  }
 },
 "nbformat": 4,
 "nbformat_minor": 4
}
